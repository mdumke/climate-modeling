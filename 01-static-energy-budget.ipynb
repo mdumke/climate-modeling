{
 "cells": [
  {
   "cell_type": "markdown",
   "metadata": {},
   "source": [
    "# Static Energy Budget\n",
    "\n",
    "This very first model computes the earth surface temperature at the stationary point where the incoming energy from the sun is the same as the energy that is radiated out by the earth."
   ]
  },
  {
   "cell_type": "code",
   "execution_count": 4,
   "metadata": {
    "collapsed": true
   },
   "outputs": [],
   "source": [
    "# some imports for later\n",
    "from operator import add\n",
    "from functools import partial"
   ]
  },
  {
   "cell_type": "markdown",
   "metadata": {},
   "source": [
    "## Naked Earth Model\n",
    "\n",
    "We start by looking at the energy that is hitting earth's surface from the sun. We need two values for earth:\n",
    "\n",
    "1. The solar constant $C \\approx 1350 \\frac{W}{m^2}$, the incoming energy flow per unit area at the earth's distance from the sun\n",
    "2. The degree of reflection, the *albedo*, which for the earch is roughly $alpha \\approx 0.3$\n",
    "\n",
    "The solar constant is actually a function of the planet's distance $D$ from the sun in Astronmical Units ($AU$), where 1 is the distance sun-earth: $L = \\frac{C}{D^2}$"
   ]
  },
  {
   "cell_type": "code",
   "execution_count": 5,
   "metadata": {
    "collapsed": true
   },
   "outputs": [],
   "source": [
    "C = 1350\n",
    "L = lambda dist: C / dist**2\n",
    "alpha = 0.3"
   ]
  },
  {
   "cell_type": "markdown",
   "metadata": {},
   "source": [
    "Only half of the earth is exposed to the sun. From the perspective of the parallel rays of sunlight, earth looks like a circle. So we can determine the amount of energy from the sun via a circle with the radius of the earth:\n",
    "\n",
    "$L \\cdot (1 - alpha) \\cdot \\pi \\cdot R^2$"
   ]
  },
  {
   "cell_type": "markdown",
   "metadata": {},
   "source": [
    "This incoming energy will increase the temperature of the earth. Let's assume for the moment that the entire planet will be heated up equally and instantly. Once the earth is warming, it starts emitting electromagnetic radiation itself according to the Stefan-Boltzman law: $E_{in} = \\epsilon \\sigma T^4$.\n",
    "\n",
    "Here, $\\epsilon$ describes the *emissivity*, which is 1 if a body emits energy across the whole spectrum. It is rougly 1 for the earth. And $\\sigma$ is the Stefan-Boltzmann constant."
   ]
  },
  {
   "cell_type": "code",
   "execution_count": 6,
   "metadata": {
    "collapsed": true
   },
   "outputs": [],
   "source": [
    "epsilon = 1\n",
    "sigma = 5.67 * 10**-8 #[W/m^2/K^4]"
   ]
  },
  {
   "cell_type": "markdown",
   "metadata": {},
   "source": [
    "Because we assumed that earth heats up homogeneously and instantly, it will emit radiation across it's whole surface, which can be approximated by the surface of a sphere:\n",
    "\n",
    "$E_{out} = \\epsilon \\sigma T^4 \\cdot 4 \\pi R^2$"
   ]
  },
  {
   "cell_type": "markdown",
   "metadata": {},
   "source": [
    "The sun will heat up the earth, and it in turn will emit enery out to space. If the temperature was too low, earth would absorb more engery and the temperature would rise, and similarly, it the temperature was too high, it would emit more energy than is coming in from the sun, and would cool down.\n",
    "\n",
    "After some time, however, earth's temperature would converge to a stable state where incoming and outgoing energy flux would be the same:\n",
    "\n",
    "$L \\cdot (1 - alpha) \\cdot \\pi \\cdot R^2 = \\epsilon \\sigma T^4 \\cdot 4 \\pi R^2$\n",
    "\n",
    "We can simplify this equation, eliminate the actual radius of the earth, and determine the stable temperature as:\n",
    "\n",
    "$T = (\\frac{L \\cdot (1 - alpha)}{4 \\epsilon \\sigma})^{\\frac{1}{4}}$\n",
    "\n",
    "In this formula, we have a few things that can vary, in particular the albedo of the earth and its distance to the sun."
   ]
  },
  {
   "cell_type": "code",
   "execution_count": 7,
   "metadata": {
    "collapsed": true
   },
   "outputs": [],
   "source": [
    "def temp(albedo, dist=1):\n",
    "    return (L(dist) * (1 - albedo) / (4 * epsilon * sigma))**(1/4)"
   ]
  },
  {
   "cell_type": "markdown",
   "metadata": {},
   "source": [
    "With an albedo of 0.3 this gives us a surface temperature in Kelvin of:"
   ]
  },
  {
   "cell_type": "code",
   "execution_count": 8,
   "metadata": {},
   "outputs": [
    {
     "data": {
      "text/plain": [
       "254.06637407730736"
      ]
     },
     "execution_count": 8,
     "metadata": {},
     "output_type": "execute_result"
    }
   ],
   "source": [
    "t_surface = temp(albedo=0.3)\n",
    "t_surface"
   ]
  },
  {
   "cell_type": "markdown",
   "metadata": {},
   "source": [
    "Or, in Celcius:"
   ]
  },
  {
   "cell_type": "code",
   "execution_count": 9,
   "metadata": {},
   "outputs": [
    {
     "data": {
      "text/plain": [
       "-18.08362592269262"
      ]
     },
     "execution_count": 9,
     "metadata": {},
     "output_type": "execute_result"
    }
   ],
   "source": [
    "Celsius = partial(add, -272.15)\n",
    "Celsius(t_surface)"
   ]
  },
  {
   "cell_type": "markdown",
   "metadata": {},
   "source": [
    "This cannot the actual surface temperature, of course, because we haven't accounted for the earth's atmosphere at this point. But we have a model where we can hypothetically change the distance from the sun and the surface color of the earth."
   ]
  },
  {
   "cell_type": "markdown",
   "metadata": {},
   "source": [
    "## Introducing an Atmosphere\n",
    "\n",
    "A good first abstraction for the atmosphere is a pane of glass around the earth. Electromagnetic radiation in the visible spectrum can penetrate this pane, but the infrared radiation emitted by the warm earth will interact with the atmosphere and heat it up, so it will now radiate itself. As the atmosphere is a pane, in other words: just a surface, it will radiate in two direction: out to space and back to earth. \n",
    "\n",
    "At equilibrium, the radiation emitted into space is still equal to the incoming flux from the sun. With $T_A$ being the temperature of the atmosphere, the equation is now:\n",
    "\n",
    "$T_A = (\\frac{L \\cdot (1 - alpha)}{4 \\epsilon \\sigma})^{\\frac{1}{4}}$"
   ]
  },
  {
   "cell_type": "code",
   "execution_count": 11,
   "metadata": {
    "collapsed": true
   },
   "outputs": [],
   "source": [
    "def temperature_atmosphere(albedo, dist=1):\n",
    "    return (L(dist) * (1 - albedo) / (4 * epsilon * sigma))**(1/4)"
   ]
  },
  {
   "cell_type": "code",
   "execution_count": 12,
   "metadata": {},
   "outputs": [
    {
     "data": {
      "text/plain": [
       "254.06637407730736"
      ]
     },
     "execution_count": 12,
     "metadata": {},
     "output_type": "execute_result"
    }
   ],
   "source": [
    "t_atmosphere = temperature_atmosphere(0.3)\n",
    "t_atmosphere"
   ]
  },
  {
   "cell_type": "markdown",
   "metadata": {
    "collapsed": true
   },
   "source": [
    "Additionally, we know that at equilibrium temperature, the energy leaving the earth surface ($\\epsilon \\sigma T_G^4$) is equal to the total energy emitted by the atmosphere:\n",
    "\n",
    "$\\epsilon \\sigma T_G^4 \\cdot 4 \\pi R^2 = 2 \\cdot \\epsilon \\sigma T_A^4 \\cdot \\pi R^2$\n",
    "\n",
    "In other words, the earth's surface will be warmer than the atmosphere by a factor of:\n",
    "\n",
    "$\\frac{T_G}{T_A} = 2^{\\frac{1}{4}}$"
   ]
  },
  {
   "cell_type": "code",
   "execution_count": 13,
   "metadata": {
    "collapsed": true
   },
   "outputs": [],
   "source": [
    "def temperature_surface(albedo, dist=1):\n",
    "    return 2**(1/4) * temperature_atmosphere(albedo, dist)"
   ]
  },
  {
   "cell_type": "code",
   "execution_count": 14,
   "metadata": {},
   "outputs": [
    {
     "data": {
      "text/plain": [
       "302.1375397356768"
      ]
     },
     "execution_count": 14,
     "metadata": {},
     "output_type": "execute_result"
    }
   ],
   "source": [
    "t_surface = temperature_surface(0.3)\n",
    "t_surface"
   ]
  },
  {
   "cell_type": "markdown",
   "metadata": {},
   "source": [
    "Or, in degrees Celsius:"
   ]
  },
  {
   "cell_type": "code",
   "execution_count": 17,
   "metadata": {},
   "outputs": [
    {
     "data": {
      "text/plain": [
       "29.98753973567682"
      ]
     },
     "execution_count": 17,
     "metadata": {},
     "output_type": "execute_result"
    }
   ],
   "source": [
    "Celsius(t_surface)"
   ]
  },
  {
   "cell_type": "markdown",
   "metadata": {},
   "source": [
    "This does not match the actual average surface temperature of the earth of 21.5°C perfectly, but it's not too bad as a first approximation."
   ]
  },
  {
   "cell_type": "code",
   "execution_count": null,
   "metadata": {
    "collapsed": true
   },
   "outputs": [],
   "source": []
  }
 ],
 "metadata": {
  "kernelspec": {
   "display_name": "Python 3",
   "language": "python",
   "name": "python3"
  },
  "language_info": {
   "codemirror_mode": {
    "name": "ipython",
    "version": 3
   },
   "file_extension": ".py",
   "mimetype": "text/x-python",
   "name": "python",
   "nbconvert_exporter": "python",
   "pygments_lexer": "ipython3",
   "version": "3.6.8"
  }
 },
 "nbformat": 4,
 "nbformat_minor": 2
}
