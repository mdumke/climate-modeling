{
 "cells": [
  {
   "cell_type": "markdown",
   "metadata": {},
   "source": [
    "# Dynamic Energy Budget\n",
    "\n",
    "The previous calculations only concern the final stable state where energy influx equals the outgoing radiation energy once equilibrium temperature is reached. But this does not take into account that global warming happens over time."
   ]
  },
  {
   "cell_type": "code",
   "execution_count": 167,
   "metadata": {},
   "outputs": [],
   "source": [
    "# imports\n",
    "import seaborn as sns\n",
    "import matplotlib.pyplot as plt\n",
    "from collections import namedtuple\n",
    "\n",
    "%matplotlib inline"
   ]
  },
  {
   "cell_type": "markdown",
   "metadata": {},
   "source": [
    "## Bare Earth Model\n",
    "\n",
    "In order to introdce the time factor, we compute net energy flux over some timestep and adjust the earth' heat budget accordingly."
   ]
  },
  {
   "cell_type": "code",
   "execution_count": 168,
   "metadata": {},
   "outputs": [],
   "source": [
    "# physical constants\n",
    "SOLAR_CONSTANT = 1350 #[W/m^2]\n",
    "EPSILON = 1\n",
    "SIGMA = 5.67 * 10**-8 #[W/m^2/K^4]\n",
    "\n",
    "# Seconds equivalents\n",
    "DAY = 60 * 60 * 24\n",
    "YEAR = DAY * 365"
   ]
  },
  {
   "cell_type": "markdown",
   "metadata": {},
   "source": [
    "First, however, we need to make some assumptions about geography. For simplicity, we assume a planet that is fully covered with water of a certain depth:"
   ]
  },
  {
   "cell_type": "code",
   "execution_count": 169,
   "metadata": {},
   "outputs": [],
   "source": [
    "ocean_depth = 4000 #[m]"
   ]
  },
  {
   "cell_type": "markdown",
   "metadata": {},
   "source": [
    "1 calorie is the amount of energy needed to heat 1 gram of water by 1 degree, and 4.18 Joule are about the equivalent of 1 calorie. This allows us to determine the energy stored in our model ocean:"
   ]
  },
  {
   "cell_type": "code",
   "execution_count": 170,
   "metadata": {},
   "outputs": [],
   "source": [
    "def heat_capacity(ocean_depth):\n",
    "    \"\"\"return the amount of energy required to heat up a 1m^2 * depth cube of water\"\"\"\n",
    "    return ocean_depth * 4.18 * 1E6"
   ]
  },
  {
   "cell_type": "markdown",
   "metadata": {},
   "source": [
    "From here, we can find the total heat content of the earth. For instance, at a temperature of $0°C$, or $272.15 K$, this would be:"
   ]
  },
  {
   "cell_type": "code",
   "execution_count": 171,
   "metadata": {},
   "outputs": [
    {
     "data": {
      "text/plain": [
       "4550348000000.0"
      ]
     },
     "execution_count": 171,
     "metadata": {},
     "output_type": "execute_result"
    }
   ],
   "source": [
    "# example heat content\n",
    "272.15 * heat_capacity(ocean_depth) #[J/m^2]"
   ]
  },
  {
   "cell_type": "markdown",
   "metadata": {},
   "source": [
    "Conversely, from the heat content, we can find the surface temperature:"
   ]
  },
  {
   "cell_type": "code",
   "execution_count": 172,
   "metadata": {},
   "outputs": [],
   "source": [
    "def temperature(heat_content, ocean_depth):\n",
    "    \"\"\"Return the earth surface temperature\"\"\"\n",
    "    return heat_content / heat_capacity(ocean_depth)"
   ]
  },
  {
   "cell_type": "markdown",
   "metadata": {},
   "source": [
    "The model will now compute the energy influx from the sun over one timestep, adjust the heat content, and then determine the new temperature. With a new temperature, we can compute a new output radiation in the next timestep."
   ]
  },
  {
   "cell_type": "code",
   "execution_count": 173,
   "metadata": {},
   "outputs": [],
   "source": [
    "def energy_in(albedo, dist=1):\n",
    "    \"\"\"Return influx from the sun\"\"\"\n",
    "    return SOLAR_CONSTANT / dist**2 * (1 - albedo) / 4"
   ]
  },
  {
   "cell_type": "code",
   "execution_count": 174,
   "metadata": {},
   "outputs": [],
   "source": [
    "def energy_out(temperature):\n",
    "    \"\"\"Return outflux from earth's radiation\"\"\"\n",
    "    return EPSILON * SIGMA * temperature**4"
   ]
  },
  {
   "cell_type": "markdown",
   "metadata": {},
   "source": [
    "With this in place, we can determine the total change in the earth's energy budget:"
   ]
  },
  {
   "cell_type": "code",
   "execution_count": 175,
   "metadata": {},
   "outputs": [],
   "source": [
    "def net_heat_flux(duration, heat_content, ocean_depth, albedo, dist):\n",
    "    \"\"\"Return total heat absorbed or emitted\"\"\"\n",
    "    return (energy_in(albedo, dist) - energy_out(temperature(heat_content, ocean_depth))) * duration"
   ]
  },
  {
   "cell_type": "markdown",
   "metadata": {},
   "source": [
    "This formula requires a duration to be set: with a longer duration, more energy can flow. This also implies that **the model will be more accurate when smaller timesteps are chosen.**\n",
    "\n",
    "Let's run a simulation over some 1-year long timesteps, starting from an initial temperature of $0K$. We also reuse some assumptions from the previous model:"
   ]
  },
  {
   "cell_type": "code",
   "execution_count": 176,
   "metadata": {},
   "outputs": [],
   "source": [
    "def run_simulation():\n",
    "    \"\"\"Return temperatures for each epoch of the simulation\"\"\"\n",
    "    # model assumptions\n",
    "    albedo = 0.3\n",
    "    dist = 1 #[AU]\n",
    "    temperature_init = 0\n",
    "\n",
    "    # simulation parameters\n",
    "    timestep = YEAR\n",
    "    epochs = 1500\n",
    "\n",
    "    # collect temperature development over time\n",
    "    temperatures = []\n",
    "\n",
    "    # initial heat content\n",
    "    heat_content = heat_capacity(ocean_depth) * temperature_init\n",
    "\n",
    "    for _ in range(epochs):\n",
    "        heat_content += net_heat_flux(timestep, heat_content, ocean_depth, albedo, dist)\n",
    "        temperatures.append(temperature(heat_content, ocean_depth))\n",
    "        \n",
    "    return temperatures"
   ]
  },
  {
   "cell_type": "code",
   "execution_count": 177,
   "metadata": {},
   "outputs": [],
   "source": [
    "temperatures = run_simulation()"
   ]
  },
  {
   "cell_type": "markdown",
   "metadata": {},
   "source": [
    "We can now see how temperatures would develop over 1500 years. Let's convert to Celsius before plotting."
   ]
  },
  {
   "cell_type": "code",
   "execution_count": 178,
   "metadata": {},
   "outputs": [
    {
     "data": {
      "image/png": "[encoded data removed]",
      "text/plain": [
       "<Figure size 1080x576 with 1 Axes>"
      ]
     },
     "metadata": {
      "needs_background": "light"
     },
     "output_type": "display_data"
    }
   ],
   "source": [
    "fig, ax = plt.subplots(figsize=(15, 8))\n",
    "\n",
    "ax.grid()\n",
    "ax.set_ylabel('Temperature (K)')\n",
    "ax.set_xlabel('Time (year)')\n",
    "sns.lineplot(range(len(temperatures)), [t - 272.15 for t in temperatures]);"
   ]
  },
  {
   "cell_type": "markdown",
   "metadata": {},
   "source": [
    "The model will converge to the same stable state as the analytical solution, after about 1000 years:"
   ]
  },
  {
   "cell_type": "code",
   "execution_count": 179,
   "metadata": {},
   "outputs": [
    {
     "data": {
      "text/plain": [
       "(254.00220395376684, -18.14779604623314)"
      ]
     },
     "execution_count": 179,
     "metadata": {},
     "output_type": "execute_result"
    }
   ],
   "source": [
    "# Final state in Kelvin and Celsius\n",
    "temperatures[-1], temperatures[-1] - 272.15"
   ]
  },
  {
   "cell_type": "markdown",
   "metadata": {
    "collapsed": true
   },
   "source": [
    "As with the static model, this bare earth model converges to too low a termperature because we did not account for any atmosphere."
   ]
  },
  {
   "cell_type": "markdown",
   "metadata": {
    "collapsed": true
   },
   "source": [
    "## Introducting an Atmosphere\n",
    "\n",
    "The main additional factor that needs to be considered is the energy that the warm atmosphere radiates back to earth. Modeling the atmosphere as a pane, and assuming it reacts immediately to the infrared radiation coming from earth, all we need to do is add the respective term the the suface energy budget.\n",
    "\n",
    "But before we go there, let's refactor the above code a bit to make it more reusable. In particular, let's introduce an parameter container that can configure the different parts of the simulation."
   ]
  },
  {
   "cell_type": "code",
   "execution_count": 180,
   "metadata": {},
   "outputs": [],
   "source": [
    "Parameters = namedtuple(\n",
    "    'Parameters',\n",
    "    'albedo distance ocean_depth initial_temperature timestep epochs')\n",
    "Parameters.__new__.__defaults__ = (0.3, 1, 4000, 0, 1, 1)"
   ]
  },
  {
   "cell_type": "code",
   "execution_count": 181,
   "metadata": {},
   "outputs": [],
   "source": [
    "def run_simulation(energy_in, energy_out, params):\n",
    "    \"\"\"Return temperatures for each epoch of the simulation\"\"\"\n",
    "    temperatures = []\n",
    "    heat_content = heat_capacity(params.ocean_depth) * params.initial_temperature\n",
    "\n",
    "    for _ in range(params.epochs):\n",
    "        t_ground = temperature(heat_content, params.ocean_depth)\n",
    "        e_in = energy_in(t_ground, params)\n",
    "        e_out = energy_out(t_ground)\n",
    "        heat_content += (e_in - e_out) * params.timestep\n",
    "        temperatures.append(t_ground)\n",
    "        \n",
    "    return temperatures"
   ]
  },
  {
   "cell_type": "markdown",
   "metadata": {},
   "source": [
    "We can now write our new `energy_in` function that also accounts for reflected energy:"
   ]
  },
  {
   "cell_type": "code",
   "execution_count": 182,
   "metadata": {},
   "outputs": [],
   "source": [
    "def energy_in_with_reflection(t_ground, params):\n",
    "    \"\"\"Return influx from the sun plus atmosphere reflection\"\"\"\n",
    "    solar_in = SOLAR_CONSTANT / params.distance**2 * (1 - params.albedo) / 4\n",
    "    atmospheric_reflection = 1/2 * EPSILON * SIGMA * t_ground**4\n",
    "    return solar_in + atmospheric_reflection"
   ]
  },
  {
   "cell_type": "markdown",
   "metadata": {},
   "source": [
    "That suffice to run the adapted simulation with default parameters, once again over 1500 years:"
   ]
  },
  {
   "cell_type": "code",
   "execution_count": 183,
   "metadata": {},
   "outputs": [],
   "source": [
    "params = Parameters(timestep=YEAR, epochs=1500)\n",
    "temperatures = run_simulation(energy_in_with_reflection, energy_out, params)"
   ]
  },
  {
   "cell_type": "code",
   "execution_count": 184,
   "metadata": {},
   "outputs": [
    {
     "data": {
      "image/png": "[encoded data removed]",
      "text/plain": [
       "<Figure size 1080x576 with 1 Axes>"
      ]
     },
     "metadata": {
      "needs_background": "light"
     },
     "output_type": "display_data"
    }
   ],
   "source": [
    "fig, ax = plt.subplots(figsize=(15, 8))\n",
    "\n",
    "ax.grid()\n",
    "ax.set_ylabel('Temperature (K)')\n",
    "ax.set_xlabel('Time (year)')\n",
    "sns.lineplot(range(len(temperatures)), [t - 272.15 for t in temperatures]);"
   ]
  },
  {
   "cell_type": "code",
   "execution_count": 185,
   "metadata": {},
   "outputs": [
    {
     "data": {
      "text/plain": [
       "(301.72507152067817, 29.575071520678193)"
      ]
     },
     "execution_count": 185,
     "metadata": {},
     "output_type": "execute_result"
    }
   ],
   "source": [
    "# Final state in Kelvin and Celsius\n",
    "temperatures[-1], temperatures[-1] - 272.15"
   ]
  },
  {
   "cell_type": "markdown",
   "metadata": {},
   "source": [
    "We have arrived at the same stationary temperature as with the static model. But now we can estimate on which timescale changes take place.\n",
    "\n",
    "What if a series of massive Volcano eruptions were to darken the sky and reduce the incoming light from the sun by, say, 20%? How long would it take for the temperature to adjust? And where will it reach a new equilibrium? Less incoming energy can be expressed though a higher albedo. We'll pick 0.45 which comes close to a 20% reduction. And we use the most recent temperature value as starting value for the next round of simulation:"
   ]
  },
  {
   "cell_type": "code",
   "execution_count": 186,
   "metadata": {},
   "outputs": [],
   "source": [
    "params = Parameters(\n",
    "    albedo=0.45,\n",
    "    initial_temperature=302,\n",
    "    timestep=YEAR,\n",
    "    epochs=1500)\n",
    "\n",
    "temperatures = run_simulation(energy_in_with_reflection, energy_out, params)"
   ]
  },
  {
   "cell_type": "code",
   "execution_count": 187,
   "metadata": {},
   "outputs": [
    {
     "data": {
      "image/png": "[encoded data removed]",
      "text/plain": [
       "<Figure size 1080x576 with 1 Axes>"
      ]
     },
     "metadata": {
      "needs_background": "light"
     },
     "output_type": "display_data"
    }
   ],
   "source": [
    "fig, ax = plt.subplots(figsize=(15, 8))\n",
    "\n",
    "ax.grid()\n",
    "ax.set_ylim((-10, 40))\n",
    "ax.set_ylabel('Temperature (C)')\n",
    "ax.set_xlabel('Time (year)')\n",
    "sns.lineplot(range(len(temperatures)), [t - 272.15 for t in temperatures]);"
   ]
  },
  {
   "cell_type": "markdown",
   "metadata": {},
   "source": [
    "It looks like after about 800 years earth would reach a new stable state at a lower temperature of:"
   ]
  },
  {
   "cell_type": "code",
   "execution_count": 189,
   "metadata": {},
   "outputs": [
    {
     "data": {
      "text/plain": [
       "(284.4695796426107, 12.319579642610734)"
      ]
     },
     "execution_count": 189,
     "metadata": {},
     "output_type": "execute_result"
    }
   ],
   "source": [
    "# new equilibrium temperature in Kelvin and Celsius\n",
    "temperatures[-1], temperatures[-1] - 272.15"
   ]
  },
  {
   "cell_type": "code",
   "execution_count": null,
   "metadata": {},
   "outputs": [],
   "source": []
  }
 ],
 "metadata": {
  "kernelspec": {
   "display_name": "Python 3",
   "language": "python",
   "name": "python3"
  },
  "language_info": {
   "codemirror_mode": {
    "name": "ipython",
    "version": 3
   },
   "file_extension": ".py",
   "mimetype": "text/x-python",
   "name": "python",
   "nbconvert_exporter": "python",
   "pygments_lexer": "ipython3",
   "version": "3.7.5"
  }
 },
 "nbformat": 4,
 "nbformat_minor": 2
}
