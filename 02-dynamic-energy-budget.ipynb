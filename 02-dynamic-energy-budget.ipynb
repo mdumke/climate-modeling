{
 "cells": [
  {
   "cell_type": "markdown",
   "metadata": {},
   "source": [
    "# Dynamic Energy Budget\n",
    "\n",
    "The previous calculations only concern the final stable state where energy influx equals the outgoing radiation energy once equilibrium temperature is reached. But this does not take into account that global warming happens over time."
   ]
  },
  {
   "cell_type": "code",
   "execution_count": 22,
   "metadata": {
    "collapsed": true
   },
   "outputs": [],
   "source": [
    "# imports\n",
    "import seaborn as sns\n",
    "import matplotlib.pyplot as plt\n",
    "\n",
    "%matplotlib inline"
   ]
  },
  {
   "cell_type": "markdown",
   "metadata": {},
   "source": [
    "In order to introdce the time factor, we compute net energy flux over some timestep and adjust the earth' heat budget accordingly."
   ]
  },
  {
   "cell_type": "code",
   "execution_count": 23,
   "metadata": {
    "collapsed": true
   },
   "outputs": [],
   "source": [
    "# physical constants\n",
    "SOLAR_CONSTANT = 1350 #[W/m^2]\n",
    "EPSILON = 1\n",
    "SIGMA = 5.67 * 10**-8 #[W/m^2/K^4]"
   ]
  },
  {
   "cell_type": "markdown",
   "metadata": {},
   "source": [
    "First, however, we need to make some assumptions about geography. For simplicity, we assume a planet that is fully covered with water of a certain depth:"
   ]
  },
  {
   "cell_type": "code",
   "execution_count": 24,
   "metadata": {
    "collapsed": true
   },
   "outputs": [],
   "source": [
    "ocean_depth = 4000 #[m]"
   ]
  },
  {
   "cell_type": "markdown",
   "metadata": {},
   "source": [
    "1 calorie is the amount of energy needed to heat 1 gram of water by 1 degree, and 4.18 Joule are about the equivalent of 1 calorie. This allows us to determine the energy stored in our model ocean:"
   ]
  },
  {
   "cell_type": "code",
   "execution_count": 25,
   "metadata": {
    "collapsed": true
   },
   "outputs": [],
   "source": [
    "def heat_capacity(ocean_depth):\n",
    "    \"\"\"return the amount of energy required to heat up a 1m^2 * depth cube of water\"\"\"\n",
    "    return ocean_depth * 4.18 * 1E6"
   ]
  },
  {
   "cell_type": "markdown",
   "metadata": {},
   "source": [
    "From here, we can find the total heat content of the earth. For instance, at a temperature of $0°C$, or $272.15 K$, this would be:"
   ]
  },
  {
   "cell_type": "code",
   "execution_count": 26,
   "metadata": {},
   "outputs": [
    {
     "data": {
      "text/plain": [
       "4550348000000.0"
      ]
     },
     "execution_count": 26,
     "metadata": {},
     "output_type": "execute_result"
    }
   ],
   "source": [
    "# example heat content\n",
    "272.15 * heat_capacity(ocean_depth) #[J/m^2]"
   ]
  },
  {
   "cell_type": "markdown",
   "metadata": {},
   "source": [
    "Conversely, from the heat content, we can find the surface temperature:"
   ]
  },
  {
   "cell_type": "code",
   "execution_count": 27,
   "metadata": {
    "collapsed": true
   },
   "outputs": [],
   "source": [
    "def temperature(heat_content, ocean_depth):\n",
    "    \"\"\"Return the earth surface temperature\"\"\"\n",
    "    return heat_content / heat_capacity(ocean_depth)"
   ]
  },
  {
   "cell_type": "markdown",
   "metadata": {},
   "source": [
    "The model will now compute the energy influx from the sun over one timestep, adjust the heat content, and then determine the new temperature. With a new temperature, we can compute a new output radiation in the next timestep."
   ]
  },
  {
   "cell_type": "code",
   "execution_count": 28,
   "metadata": {
    "collapsed": true
   },
   "outputs": [],
   "source": [
    "def energy_in(albedo, dist=1):\n",
    "    \"\"\"Return influx from the sun\"\"\"\n",
    "    return SOLAR_CONSTANT / dist**2 * (1 - albedo) / 4"
   ]
  },
  {
   "cell_type": "code",
   "execution_count": 29,
   "metadata": {
    "collapsed": true
   },
   "outputs": [],
   "source": [
    "def energy_out(temperature):\n",
    "    \"\"\"Return outflux from earth's radiation\"\"\"\n",
    "    return EPSILON * SIGMA * temperature**4"
   ]
  },
  {
   "cell_type": "markdown",
   "metadata": {},
   "source": [
    "With this in place, we can determine the total change in the earth's energy budget:"
   ]
  },
  {
   "cell_type": "code",
   "execution_count": 30,
   "metadata": {
    "collapsed": true
   },
   "outputs": [],
   "source": [
    "def net_heat_flux(duration, heat_content, ocean_depth, albedo, dist):\n",
    "    \"\"\"Return total heat absorbed or emitted\"\"\"\n",
    "    return (energy_in(albedo, dist) - energy_out(temperature(heat_content, ocean_depth))) * duration"
   ]
  },
  {
   "cell_type": "markdown",
   "metadata": {},
   "source": [
    "This formula requires a duration to be set: with a longer duration, more energy can flow. This also implies that **the model will be more accurate when smaller timesteps are chosen.**\n",
    "\n",
    "Let's run a simulation over some 1-year long timesteps, starting from an initial temperature of $0K$. We also reuse some assumptions from the previous model:"
   ]
  },
  {
   "cell_type": "code",
   "execution_count": 31,
   "metadata": {
    "collapsed": true
   },
   "outputs": [],
   "source": [
    "# model assumptions\n",
    "albedo = 0.3\n",
    "dist = 1 #[AU]\n",
    "temperature_init = 0\n",
    "\n",
    "# simulation parameters\n",
    "timestep = 60 * 60 * 24 * 365 # 1year\n",
    "epochs = 1500"
   ]
  },
  {
   "cell_type": "code",
   "execution_count": 32,
   "metadata": {},
   "outputs": [],
   "source": [
    "# collect temperature development over time\n",
    "temperatures = []\n",
    "\n",
    "# initial heat content\n",
    "heat_content = heat_capacity(ocean_depth) * temperature_init\n",
    "\n",
    "for _ in range(epochs):\n",
    "    heat_content += net_heat_flux(timestep, heat_content, ocean_depth, albedo, dist)\n",
    "    temperatures.append(temperature(heat_content, ocean_depth))"
   ]
  },
  {
   "cell_type": "markdown",
   "metadata": {},
   "source": [
    "We can now see how temperatures would develop over 1500 years. Let's convert to Celsius before plotting."
   ]
  },
  {
   "cell_type": "code",
   "execution_count": 39,
   "metadata": {},
   "outputs": [
    {
     "data": {
      "image/png": "[encoded data removed]",
      "text/plain": [
       "<Figure size 1080x576 with 1 Axes>"
      ]
     },
     "metadata": {},
     "output_type": "display_data"
    }
   ],
   "source": [
    "fig, ax = plt.subplots(figsize=(15, 8))\n",
    "\n",
    "ax.grid()\n",
    "sns.lineplot(range(len(temperatures)), [t - 272.15 for t in temperatures]);"
   ]
  },
  {
   "cell_type": "markdown",
   "metadata": {},
   "source": [
    "The model will converge to the same stable state as the analytical solution, after about 1000 years:"
   ]
  },
  {
   "cell_type": "code",
   "execution_count": 44,
   "metadata": {},
   "outputs": [
    {
     "data": {
      "text/plain": [
       "(254.00220395376684, -18.14779604623314)"
      ]
     },
     "execution_count": 44,
     "metadata": {},
     "output_type": "execute_result"
    }
   ],
   "source": [
    "# Final state in Kelvin and Celsius\n",
    "temperatures[-1], temperatures[-1] - 272.15"
   ]
  },
  {
   "cell_type": "markdown",
   "metadata": {
    "collapsed": true
   },
   "source": [
    "As the next step, atmosphere should be introduced into this model as well."
   ]
  },
  {
   "cell_type": "code",
   "execution_count": null,
   "metadata": {
    "collapsed": true
   },
   "outputs": [],
   "source": []
  }
 ],
 "metadata": {
  "kernelspec": {
   "display_name": "Python 3",
   "language": "python",
   "name": "python3"
  },
  "language_info": {
   "codemirror_mode": {
    "name": "ipython",
    "version": 3
   },
   "file_extension": ".py",
   "mimetype": "text/x-python",
   "name": "python",
   "nbconvert_exporter": "python",
   "pygments_lexer": "ipython3",
   "version": "3.6.8"
  }
 },
 "nbformat": 4,
 "nbformat_minor": 2
}
